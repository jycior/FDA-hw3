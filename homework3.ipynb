{
 "cells": [
  {
   "cell_type": "markdown",
   "metadata": {},
   "source": [
    "# Homework 3"
   ]
  },
  {
   "cell_type": "code",
   "execution_count": 44,
   "metadata": {},
   "outputs": [],
   "source": [
    "from sklearn import linear_model,metrics\n",
    "import matplotlib.pyplot as plt\n",
    "import numpy as np\n",
    "import pandas as pd\n",
    "import csv\n",
    "from datetime import datetime\n",
    "from sklearn.metrics import accuracy_score"
   ]
  },
  {
   "cell_type": "code",
   "execution_count": 54,
   "metadata": {},
   "outputs": [],
   "source": [
    "train = pd.read_csv('train.csv')\n",
    "test = pd.read_csv('test.csv')"
   ]
  },
  {
   "cell_type": "code",
   "execution_count": 55,
   "metadata": {},
   "outputs": [],
   "source": [
    "def builtup(df):\n",
    "    markup =[0]\n",
    "    for i in range(len(df['Close Price'])-1):\n",
    "        if df['Close Price'][i+1] > df['Close Price'][i]:\n",
    "            markup.append(1)\n",
    "        else:\n",
    "            markup.append(0)\n",
    "    df['Mark Up'] = pd.DataFrame(markup)\n",
    "    return df\n",
    "train = builtup(train)\n",
    "test = builtup(test)"
   ]
  },
  {
   "cell_type": "code",
   "execution_count": 56,
   "metadata": {},
   "outputs": [
    {
     "name": "stdout",
     "output_type": "stream",
     "text": [
      "(2244, 20)\n",
      "(2244,)\n",
      "(232, 20)\n",
      "(232,)\n"
     ]
    }
   ],
   "source": [
    "ID = 20 #Inference Day\n",
    "def infer(df):\n",
    "    inference=[]\n",
    "    for i in range(df.shape[0]-ID):\n",
    "        intermediation = np.asarray(df.loc[i:i+ID-1]['Mark Up'])\n",
    "        inference.append(intermediation)\n",
    "    return inference\n",
    "inferences_x = np.asarray(infer(train))\n",
    "print(inferences_x.shape)\n",
    "train_y = train['Mark Up'].values\n",
    "train_y = train_y[ID:]\n",
    "print(train_y.shape)\n",
    "\n",
    "test_inf_x = np.asarray(infer(test))\n",
    "print(test_inf_x.shape)\n",
    "test_y = test['Mark Up'].values\n",
    "test_y = test_y[ID:]\n",
    "print(test_y.shape)"
   ]
  },
  {
   "cell_type": "code",
   "execution_count": 58,
   "metadata": {
    "scrolled": true
   },
   "outputs": [
    {
     "data": {
      "image/png": "[encoded data removed]",
      "text/plain": [
       "<Figure size 432x288 with 1 Axes>"
      ]
     },
     "metadata": {
      "needs_background": "light"
     },
     "output_type": "display_data"
    },
    {
     "name": "stdout",
     "output_type": "stream",
     "text": [
      "Accuracy = 50.00%\n"
     ]
    }
   ],
   "source": [
    "classification = linear_model.LogisticRegression(solver='lbfgs')\n",
    "classification.fit(inferences_x,train_y)\n",
    "prediction_y = classification.predict(test_inf_x)\n",
    "plt.scatter(range(len(prediction_y)),prediction_y,label='Prediction')\n",
    "\n",
    "plt.grid()\n",
    "plt.legend()\n",
    "plt.show()\n",
    "acc_rate = accuracy_score(test_y,prediction_y) * 100\n",
    "print('Accuracy = %.2f%%' % acc_rate)"
   ]
  },
  {
   "cell_type": "code",
   "execution_count": 63,
   "metadata": {},
   "outputs": [],
   "source": [
    "from sklearn.svm import SVC"
   ]
  },
  {
   "cell_type": "code",
   "execution_count": 65,
   "metadata": {},
   "outputs": [
    {
     "data": {
      "text/plain": [
       "SVC(C=0.05, cache_size=200, class_weight=None, coef0=0.0,\n",
       "  decision_function_shape='ovr', degree=3, gamma='auto_deprecated',\n",
       "  kernel='linear', max_iter=-1, probability=True, random_state=None,\n",
       "  shrinking=True, tol=0.001, verbose=False)"
      ]
     },
     "execution_count": 65,
     "metadata": {},
     "output_type": "execute_result"
    }
   ],
   "source": [
    "svm =SVC(C = 0.05,kernel = 'linear',probability = True)\n",
    "svm.fit(inferences_x , train_y)"
   ]
  },
  {
   "cell_type": "code",
   "execution_count": 69,
   "metadata": {},
   "outputs": [
    {
     "data": {
      "image/png": "[encoded data removed]",
      "text/plain": [
       "<Figure size 432x288 with 1 Axes>"
      ]
     },
     "metadata": {
      "needs_background": "light"
     },
     "output_type": "display_data"
    }
   ],
   "source": [
    "prediction_y = svm.predict(test_inf_x)\n",
    "plt.scatter(range(len(prediction_y)),prediction_y,label='Prediction')\n",
    "plt.grid()\n",
    "plt.legend()\n",
    "plt.show()\n"
   ]
  },
  {
   "cell_type": "code",
   "execution_count": null,
   "metadata": {},
   "outputs": [],
   "source": []
  }
 ],
 "metadata": {
  "kernelspec": {
   "display_name": "Python 3",
   "language": "python",
   "name": "python3"
  },
  "language_info": {
   "codemirror_mode": {
    "name": "ipython",
    "version": 3
   },
   "file_extension": ".py",
   "mimetype": "text/x-python",
   "name": "python",
   "nbconvert_exporter": "python",
   "pygments_lexer": "ipython3",
   "version": "3.7.0"
  }
 },
 "nbformat": 4,
 "nbformat_minor": 2
}
